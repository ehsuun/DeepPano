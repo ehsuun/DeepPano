{
 "cells": [
  {
   "cell_type": "code",
   "execution_count": 1,
   "metadata": {},
   "outputs": [],
   "source": [
    "import argparse\n",
    "import os\n",
    "import numpy as np\n",
    "import tensorflow as tf\n",
    "from matplotlib import pyplot as plt\n",
    "from PIL import Image\n",
    "import models\n",
    "import vrProjector"
   ]
  },
  {
   "cell_type": "code",
   "execution_count": 2,
   "metadata": {},
   "outputs": [],
   "source": [
    "# Default input size\n",
    "\n",
    "height = 512\n",
    "width = 512\n",
    "channels = 3\n",
    "batch_size = 1\n",
    "input_node = None\n",
    "net = None\n",
    "image_path = \"room.jpg\"\n",
    "model_data_path = \"models/NYU_ResNet-UpProj.npy\""
   ]
  },
  {
   "cell_type": "code",
   "execution_count": 3,
   "metadata": {},
   "outputs": [],
   "source": [
    "# Read image\n",
    "img = Image.open(image_path)\n",
    "img = img.resize([width,height], Image.ANTIALIAS)\n",
    "img = np.array(img).astype('float32')\n",
    "img = np.expand_dims(np.asarray(img), axis = 0)"
   ]
  },
  {
   "cell_type": "code",
   "execution_count": 4,
   "metadata": {},
   "outputs": [],
   "source": [
    "# Create a placeholder for the input image\n",
    "input_node = tf.placeholder(tf.float32, shape=(None, height, width, channels))\n",
    "\n",
    "# Construct the network\n",
    "net = models.ResNet50UpProj({'data': input_node}, batch_size, 1, False)"
   ]
  },
  {
   "cell_type": "code",
   "execution_count": 5,
   "metadata": {},
   "outputs": [
    {
     "name": "stdout",
     "output_type": "stream",
     "text": [
      "Loading the model\n"
     ]
    }
   ],
   "source": [
    "sess = tf.Session()\n",
    "# Load the converted parameters\n",
    "print('Loading the model')\n",
    "\n",
    "# Use to load from ckpt file\n",
    "#saver = tf.train.Saver()     \n",
    "#saver.restore(sess, model_data_path)\n",
    "\n",
    "# Use to load from npy file\n",
    "net.load(model_data_path, sess)"
   ]
  },
  {
   "cell_type": "code",
   "execution_count": 6,
   "metadata": {},
   "outputs": [],
   "source": [
    "def myPredictFace(faceArray,faceName):\n",
    "    img = Image.fromarray(faceArray)\n",
    "    img = img.resize([width,height], Image.ANTIALIAS)\n",
    "    plt.imshow(img,interpolation=\"bicubic\")\n",
    "    img = np.array(img).astype('float32')\n",
    "    img = np.expand_dims(np.asarray(img), axis = 0)\n",
    "\n",
    "    pred = sess.run(net.get_output(), feed_dict={input_node: img})\n",
    "    # Plot result\n",
    "    fig = plt.figure()\n",
    "    ii = plt.imshow(pred[0,:,:,0], interpolation='nearest' )\n",
    "    fig.colorbar(ii)\n",
    "    plt.show()\n",
    "    cmap = plt.cm.viridis\n",
    "    plt.imsave(faceName +'.png', pred[0,:,:,0],  cmap=cmap, vmin = 0, vmax = 5)\n",
    "    res = pred[0].flatten()\n",
    "    res = np.repeat(res,4)\n",
    "    res.astype('float32').tofile(faceName + '.bytes')"
   ]
  },
  {
   "cell_type": "code",
   "execution_count": 8,
   "metadata": {},
   "outputs": [],
   "source": [
    "eq = vrProjector.EquirectangularProjection()\n",
    "eq.loadImage(\"skybox/Courtyard.jpg\")\n",
    "cb = vrProjector.CubemapProjection()\n",
    "cb.initImages(512,512)\n",
    "cb.reprojectToThis(eq)"
   ]
  },
  {
   "cell_type": "code",
   "execution_count": null,
   "metadata": {},
   "outputs": [],
   "source": [
    "myPredictFace(cb.front,'nz')"
   ]
  },
  {
   "cell_type": "code",
   "execution_count": null,
   "metadata": {},
   "outputs": [],
   "source": [
    "myPredictFace(cb.front,'nz')\n",
    "myPredictFace(cb.back,'pz')\n",
    "myPredictFace(cb.right,'px')\n",
    "myPredictFace(cb.left,'nx')\n",
    "myPredictFace(cb.top,'py')\n",
    "myPredictFace(cb.bottom,'ny')"
   ]
  },
  {
   "cell_type": "code",
   "execution_count": null,
   "metadata": {},
   "outputs": [],
   "source": [
    "cb2 = vrProjector.CubemapProjection()\n",
    "cb2.loadImages(\"nz.png\", \"px.png\", \"pz.png\", \"nx.png\", \"py.png\", \"ny.png\")\n",
    "eq2 = vrProjector.EquirectangularProjection()\n",
    "eq2.initImage(2048,1024)\n",
    "eq2.reprojectToThis(cb2)\n",
    "eq2.saveImage(\"Panorama.png\")"
   ]
  },
  {
   "cell_type": "code",
   "execution_count": null,
   "metadata": {},
   "outputs": [],
   "source": []
  }
 ],
 "metadata": {
  "kernelspec": {
   "display_name": "Python 3",
   "language": "python",
   "name": "python3"
  },
  "language_info": {
   "codemirror_mode": {
    "name": "ipython",
    "version": 3
   },
   "file_extension": ".py",
   "mimetype": "text/x-python",
   "name": "python",
   "nbconvert_exporter": "python",
   "pygments_lexer": "ipython3",
   "version": "3.6.3"
  }
 },
 "nbformat": 4,
 "nbformat_minor": 2
}
